{
 "cells": [
  {
   "cell_type": "markdown",
   "id": "31b61967",
   "metadata": {},
   "source": [
    "# Milestone 1\n",
    "Note: pleas test your code according to the example on the website: https://relate.cs.illinois.edu/course/cs101-fa21/page/ms1/"
   ]
  },
  {
   "cell_type": "markdown",
   "id": "f49434a3",
   "metadata": {},
   "source": [
    "### Function 1: s(dna)\n",
    "This function should accept as argument a string representing a DNA sequence and return a list or tuple of four integers representing the number of times each nucleotide A, C, G, or T occur in the DNA string, in that order."
   ]
  },
  {
   "cell_type": "code",
   "execution_count": null,
   "id": "5c25fce1",
   "metadata": {},
   "outputs": [],
   "source": [
    "def s(dna):\n",
    "    
   ]
  },
  {
   "cell_type": "markdown",
   "id": "8ff2bfb3",
   "metadata": {},
   "source": [
    "### Function 2: dna2rna(dna)\n",
    "This function should accept a string representing a DNA sequence and return the transcribed RNA string. DNA sequences are transcribed to RNA sequences by replacing all occurrences of the \"T\" nucleotides with \"U\"."
   ]
  },
  {
   "cell_type": "code",
   "execution_count": null,
   "id": "2f3a41fe",
   "metadata": {},
   "outputs": [],
   "source": [
    "def dna2rna(dna):\n",
    "    #insert your code here"
   ]
  },
  {
   "cell_type": "markdown",
   "id": "0bb9ce0d",
   "metadata": {},
   "source": [
    "### Function 3: reverse_complement(dna)\n",
    "This function should accept a string representing a DNA sequence and return the reverse complement as a new string. The reverse complement of a DNA string is formed by reversing the entire string, and then taking the complement of each nucleotide."
   ]
  },
  {
   "cell_type": "code",
   "execution_count": null,
   "id": "fede6bb9",
   "metadata": {},
   "outputs": [],
   "source": [
    "def reverse_complement(dna):\n",
    "    #insert your code here"
   ]
  },
  {
   "cell_type": "markdown",
   "id": "6aa4d600",
   "metadata": {},
   "source": [
    "### Function 4: mendels_law(hom, het, rec)\n",
    "Gregor Mendel's laws of inheritance state that organisms possess a pair of alleles for a given trait. If those two alleles are the same, then it is called homozygous; if they are different, it is heterozygous. For a given trait, are two possible alleles: dominant and recessive. Only one dominant allele is necessary for the trait to be expressed."
   ]
  },
  {
   "cell_type": "code",
   "execution_count": 2,
   "id": "fd924ef8",
   "metadata": {},
   "outputs": [],
   "source": [
    "def mendels_law(hom,het,rec):\n",
    "    #insert your code here"
   ]
  },
  {
   "cell_type": "markdown",
   "id": "2a1f20ea",
   "metadata": {},
   "source": [
    "### Function 5: fibonacci_rabbits(n,k)\n",
    "This function should accept two integers n and k, and calculate the total number of rabbit pairs that will be present after n months, given that every pair of mating rabbits produces k rabbit pairs in their next litter (in the next month).  \n",
    "$$ F_n=F_{n-1}+F_{n-2}$$  \n",
    "more detailed explanation on course websit (Milestone1)"
   ]
  },
  {
   "cell_type": "code",
   "execution_count": null,
   "id": "5234ab25",
   "metadata": {},
   "outputs": [],
   "source": [
    "def fibonacci_rabbits(n, k):\n",
    "    #insert your code here"
   ]
  },
  {
   "cell_type": "markdown",
   "id": "b41ea92b",
   "metadata": {},
   "source": [
    "### Function 6: gc_content(dna_list)\n",
    "This function should accept a list of DNA strings, and return the index of the DNA string with the highest GC-content and its GC-content percentage as a tuple. The GC-content of a DNA string is the percentage of nucleotides in the string that are \"C\" or \"G\"."
   ]
  },
  {
   "cell_type": "code",
   "execution_count": null,
   "id": "e17ab11a",
   "metadata": {},
   "outputs": [],
   "source": [
    "def gc_content(dna_list):\n",
    "    #insert your code here"
   ]
  },
  {
   "cell_type": "markdown",
   "id": "f67f6751",
   "metadata": {},
   "source": [
    "### Function 7: rna2codon(rna)\n",
    "This function should accept a string representing an RNA sequence, and return the corresponding amino acid string, as transcribed by this codon table. You do not need to transcribe the stop codon."
   ]
  },
  {
   "cell_type": "code",
   "execution_count": null,
   "id": "fe3016d1",
   "metadata": {},
   "outputs": [],
   "source": [
    "def rna2codon(rna):\n",
    "    #insert your code here"
   ]
  },
  {
   "cell_type": "markdown",
   "id": "8f93a9e7",
   "metadata": {},
   "source": [
    "### Function 8: locate_substring(dna_snippet, dna)\n",
    "This function should accept two strings, dna_snippet and dna, where dna_snippet is a substring of dna, and return all locations of the substring as a list of integers. In other words, dna_snippet may exist in multiple locations within dna; you should return the beginning index position of each occurrence of dna_snippet inside of dna."
   ]
  },
  {
   "cell_type": "code",
   "execution_count": null,
   "id": "84144fcb",
   "metadata": {},
   "outputs": [],
   "source": [
    "def locate_substring(dna_snippet, dna):\n",
    "    #insert your code here"
   ]
  },
  {
   "cell_type": "markdown",
   "id": "406fef69",
   "metadata": {},
   "source": [
    "### Function 9: hamming_dist(dna1, dna2)\n",
    "This function should accept two strings representing DNA sequences of equal length and return the Hamming distance between the two strings as an integer. The Hamming distance refers to the number of corresponding symbols in the same position that differ between two sequences. In other words, you should find the number of differences between two DNA sequences."
   ]
  },
  {
   "cell_type": "code",
   "execution_count": null,
   "id": "22f3c477",
   "metadata": {},
   "outputs": [],
   "source": [
    "def hamming_dist(dna1, dna2):\n",
    "    #insert your code here"
   ]
  },
  {
   "cell_type": "markdown",
   "id": "60392426",
   "metadata": {},
   "source": [
    "### Function 10: count_dom_phenotype(genotypes)\n",
    "This function should accept a list of six nonnegative integers corresponding to the number of couples in a population possessing a specific genotype pairing, such as AA-AA (both homozygous dominant) or Aa-aa (heterozygous and homozygous recessive). The list of integers represent the number of couples having the following genotypes, in this order: \n",
    "\n",
    "1.AA-AA  \n",
    "2.AA-Aa  \n",
    "3.AA-aa  \n",
    "4.Aa-Aa  \n",
    "5.Aa-aa  \n",
    "6.aa-aa  \n",
    "\n",
    "The function should return the expected number of offspring displaying the dominant phenotype in the next generation, assuming that every couple has exactly two offspring."
   ]
  },
  {
   "cell_type": "code",
   "execution_count": null,
   "id": "dc2f93af",
   "metadata": {},
   "outputs": [],
   "source": [
    "def count_dom_phenotype(genotypes):\n",
    "    #insert your code here"
   ]
  },
  {
   "cell_type": "markdown",
   "id": "95ce69ce",
   "metadata": {},
   "source": [
    "### Function 11: source_rna(protein)\n",
    "This function should accept a string representing a sequence of proteins and returns the total number of different source RNA strings, modulo 1,000,000. Essentially, you are calculating how many strands of mRNA from which this particular protein could have been translated. (HINT: You'll want to use or manipulate the codon table from rna2codon().)"
   ]
  },
  {
   "cell_type": "code",
   "execution_count": null,
   "id": "5d40be98",
   "metadata": {},
   "outputs": [],
   "source": [
    "def source_rna(protein):\n",
    "    #insert your code here"
   ]
  },
  {
   "cell_type": "markdown",
   "id": "c2382324",
   "metadata": {},
   "source": [
    "### Function 12: splice_rna(dna, intron_list)\n",
    "This function should accept a string representing a DNA sequence and a list of strings representing introns. The process of transcribing DNA into RNA involves translating the DNA to RNA and then performing RNA splicing, where the sequence is chopped into smaller segments called introns and exons. Introns are segments of the gene not used for protein translation, so they should be removed from the sequence. Exons are the remaining segments, which are then transcribed sequentially into a protein string. splice_rna() should return a protein string that results from transcribing and translating the exons of the given string."
   ]
  },
  {
   "cell_type": "code",
   "execution_count": null,
   "id": "3337ac8a",
   "metadata": {},
   "outputs": [],
   "source": [
    "def splice_rna(dna, intron_list):\n",
    "    #insert your code here"
   ]
  }
 ],
 "metadata": {
  "kernelspec": {
   "display_name": "Python 3 (ipykernel)",
   "language": "python",
   "name": "python3"
  },
  "language_info": {
   "codemirror_mode": {
    "name": "ipython",
    "version": 3
   },
   "file_extension": ".py",
   "mimetype": "text/x-python",
   "name": "python",
   "nbconvert_exporter": "python",
   "pygments_lexer": "ipython3",
   "version": "3.8.5"
  }
 },
 "nbformat": 4,
 "nbformat_minor": 5
}
